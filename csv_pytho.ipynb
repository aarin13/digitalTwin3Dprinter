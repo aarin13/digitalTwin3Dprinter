{
 "cells": [
  {
   "cell_type": "code",
   "execution_count": 1,
   "metadata": {},
   "outputs": [],
   "source": [
    "import numpy as np\n",
    "import pandas as pd\n",
    "%pip install fsspec"
   ]
  },
  {
   "cell_type": "code",
   "execution_count": 4,
   "metadata": {},
   "outputs": [
    {
     "name": "stdout",
     "output_type": "stream",
     "text": [
      "[1076.32923781549, 0.000225014775246303, 6.00515551075912, 3.91554209554711]\n"
     ]
    }
   ],
   "source": [
    "data = data = pd.read_csv(\"C://Users//HP//Desktop//dtwin_native//dt1.csv\")\n",
    "def get_sensor_readings(data):\n",
    "    tail = pd.DataFrame(data.tail(1))\n",
    "    readings = [float(tail.iloc[0][1]), float(tail.iloc[0][3]), float(tail.iloc[0][5]), float(tail.iloc[0][7])]\n",
    "    return readings"
   ]
  },
  {
   "cell_type": "code",
   "execution_count": 8,
   "metadata": {},
   "outputs": [
    {
     "name": "stdout",
     "output_type": "stream",
     "text": [
      "[1076.32923781549, 0.000225014775246303, 6.00515551075912, 3.91554209554711]\n"
     ]
    }
   ],
   "source": [
    "import numpy as np\n",
    "import pandas as pd\n",
    "data = data = pd.read_csv(\"C://Users//HP//Desktop//dtwin_native//dt1.csv\")\n",
    "def get_sensor_readings(data):\n",
    "    tail = pd.DataFrame(data.tail(1))\n",
    "    readings = [float(tail.iloc[0][1]), float(tail.iloc[0][3]), float(tail.iloc[0][5]), float(tail.iloc[0][7])]\n",
    "    return readings\n",
    "readings = get_sensor_readings(data)\n",
    "print(readings)"
   ]
  },
  {
   "cell_type": "code",
   "execution_count": null,
   "metadata": {},
   "outputs": [],
   "source": []
  }
 ],
 "metadata": {
  "kernelspec": {
   "display_name": "Python 3",
   "language": "python",
   "name": "python3"
  },
  "language_info": {
   "codemirror_mode": {
    "name": "ipython",
    "version": 3
   },
   "file_extension": ".py",
   "mimetype": "text/x-python",
   "name": "python",
   "nbconvert_exporter": "python",
   "pygments_lexer": "ipython3",
   "version": "3.9.7"
  },
  "orig_nbformat": 4
 },
 "nbformat": 4,
 "nbformat_minor": 2
}
